{
 "cells": [
  {
   "cell_type": "code",
   "execution_count": null,
   "metadata": {},
   "outputs": [],
   "source": [
    "catfolder = \"C:\\Users\\rosha\\Downloads\\cats\\cats\"\n",
    "dogfolder = \"C:\\Users\\rosha\\Downloads\\cats\\dogs\"\n",
    "\n",
    "\n",
    "import cv2\n",
    "img = cv2.imread(\"C:\\Users\\rosha\\Downloads\\cats\\cats\\cat_6.jpg\")\n",
    "cv2.imshow\n",
    "                 "
   ]
  }
 ],
 "metadata": {
  "language_info": {
   "name": "python"
  }
 },
 "nbformat": 4,
 "nbformat_minor": 2
}
